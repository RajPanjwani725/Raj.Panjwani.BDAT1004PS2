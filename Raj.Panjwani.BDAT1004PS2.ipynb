{
 "cells": [
  {
   "cell_type": "markdown",
   "id": "422021f5",
   "metadata": {},
   "source": [
    "# Question 1\n",
    "- Initially the value of a=0 but every time we call b() the value of a is increased by 2. Here we have called b() three times so tha value of b becomes 6"
   ]
  },
  {
   "cell_type": "code",
   "execution_count": 1,
   "id": "ff5e9c8f",
   "metadata": {},
   "outputs": [],
   "source": [
    "a = 0\n",
    "def b():\n",
    "    \n",
    "    global a\n",
    "    a = c(a)\n",
    "def c(a):\n",
    "    return a + 2"
   ]
  },
  {
   "cell_type": "code",
   "execution_count": 2,
   "id": "19fb538e",
   "metadata": {},
   "outputs": [
    {
     "data": {
      "text/plain": [
       "6"
      ]
     },
     "execution_count": 2,
     "metadata": {},
     "output_type": "execute_result"
    }
   ],
   "source": [
    "b()\n",
    "b()\n",
    "b()\n",
    "a"
   ]
  },
  {
   "cell_type": "markdown",
   "id": "1cc07ae8",
   "metadata": {},
   "source": [
    "# Question 2"
   ]
  },
  {
   "cell_type": "code",
   "execution_count": 3,
   "id": "fb132f49",
   "metadata": {},
   "outputs": [],
   "source": [
    "def fileLength(file_name):\n",
    "    file = open(file_name)\n",
    "    contents = file.read()\n",
    "    file.close()\n",
    "    print(len(contents))"
   ]
  },
  {
   "cell_type": "code",
   "execution_count": 4,
   "id": "41239fa8",
   "metadata": {},
   "outputs": [
    {
     "name": "stdout",
     "output_type": "stream",
     "text": [
      "123\n"
     ]
    }
   ],
   "source": [
    "file_name=\"Filelength.txt\"\n",
    "try:\n",
    "    fileLength(file_name)\n",
    "except:\n",
    "    print(\"{} not found\".format(file_name))"
   ]
  },
  {
   "cell_type": "code",
   "execution_count": 5,
   "id": "1d3f6ae0",
   "metadata": {},
   "outputs": [
    {
     "name": "stdout",
     "output_type": "stream",
     "text": [
      "Filelengt.txt not found\n"
     ]
    }
   ],
   "source": [
    "file_name=\"Filelengt.txt\"\n",
    "try:\n",
    "    fileLength(file_name)\n",
    "except:\n",
    "    print(\"{} not found\".format(file_name))"
   ]
  },
  {
   "cell_type": "markdown",
   "id": "4e898faf",
   "metadata": {},
   "source": [
    "# Question 3\n",
    "\n"
   ]
  },
  {
   "cell_type": "code",
   "execution_count": 6,
   "id": "f6904b98",
   "metadata": {},
   "outputs": [],
   "source": [
    "class Marsupial:\n",
    "    def __init__(self):\n",
    "        self.cotent = []\n",
    "    \n",
    "    def put_in_pouch(self,itm):\n",
    "        self.cotent.append(itm)\n",
    "        \n",
    "    def pouch_contents(self):\n",
    "        return self.cotent\n",
    "\n",
    "class Kangaroo(Marsupial):\n",
    "    def __init__(self, dx, dy):\n",
    "        self.x1 = dx\n",
    "        self.y1 = dy\n",
    "        \n",
    "    def jump(self,dx,dy):\n",
    "        self.x1 +=dx\n",
    "        self.y1 +=dy\n",
    "        \n",
    "    def __str__(self):\n",
    "        return \"After the jump Kangaroo is at co-ordinate ({0},{1})\".format(self.x1,self.y1)\n",
    "        "
   ]
  },
  {
   "cell_type": "code",
   "execution_count": 7,
   "id": "3729d3c8",
   "metadata": {},
   "outputs": [
    {
     "data": {
      "text/plain": [
       "['doll', 'firetruck', 'kitten']"
      ]
     },
     "execution_count": 7,
     "metadata": {},
     "output_type": "execute_result"
    }
   ],
   "source": [
    "m = Marsupial()\n",
    "m.put_in_pouch('doll')\n",
    "m.put_in_pouch('firetruck')\n",
    "m.put_in_pouch('kitten')\n",
    "m.pouch_contents()\n"
   ]
  },
  {
   "cell_type": "code",
   "execution_count": 8,
   "id": "78490157",
   "metadata": {},
   "outputs": [
    {
     "name": "stdout",
     "output_type": "stream",
     "text": [
      "After the jump Kangaroo is at co-ordinate (0,0)\n",
      "After the jump Kangaroo is at co-ordinate (3,0)\n"
     ]
    }
   ],
   "source": [
    "k = Kangaroo(0,0)\n",
    "print(k)\n",
    "k.jump(1,0)\n",
    "k.jump(1,0)\n",
    "k.jump(1,0)\n",
    "print(k)"
   ]
  },
  {
   "cell_type": "markdown",
   "id": "e1f550e6",
   "metadata": {},
   "source": [
    "# Question 4"
   ]
  },
  {
   "cell_type": "code",
   "execution_count": 9,
   "id": "f8d95d6c",
   "metadata": {},
   "outputs": [
    {
     "name": "stdout",
     "output_type": "stream",
     "text": [
      " Enter a number : 1\n",
      "1\n",
      "--------------\n",
      " Enter a number : 10\n",
      "10\n",
      "5\n",
      "16\n",
      "8\n",
      "4\n",
      "2\n",
      "1\n"
     ]
    }
   ],
   "source": [
    "\n",
    "def collatz(number):\n",
    "    if number==1:\n",
    "        print(1)\n",
    "    \n",
    "    else:\n",
    "        if(number%2==0):\n",
    "            print(int(number))\n",
    "            number=number/2\n",
    "            collatz(number)\n",
    "            \n",
    "            \n",
    "        else:\n",
    "            print(int(number))\n",
    "            number = (3*number)+1\n",
    "            collatz(number)\n",
    "number=int(input(\" Enter a number : \"))\n",
    "collatz(number)\n",
    "print(\"--------------\")\n",
    "number=int(input(\" Enter a number : \"))\n",
    "collatz(number)"
   ]
  },
  {
   "cell_type": "markdown",
   "id": "ea7a025f",
   "metadata": {},
   "source": [
    "#  Question 5"
   ]
  },
  {
   "cell_type": "code",
   "execution_count": 10,
   "id": "40f0097d",
   "metadata": {},
   "outputs": [
    {
     "name": "stdout",
     "output_type": "stream",
     "text": [
      "0\n",
      "1\n",
      "11\n",
      "1001\n"
     ]
    }
   ],
   "source": [
    "def binary(number):\n",
    " \n",
    "    if number > 1:\n",
    "        binary(number//2)\n",
    " \n",
    "    print(number % 2, end=\"\")\n",
    "\n",
    "binary(0)\n",
    "print()\n",
    "binary(1)\n",
    "print()\n",
    "binary(3)\n",
    "print()\n",
    "binary(9)\n",
    "print()"
   ]
  },
  {
   "cell_type": "markdown",
   "id": "1ac56d08",
   "metadata": {},
   "source": [
    "# Question 6"
   ]
  },
  {
   "cell_type": "code",
   "execution_count": 11,
   "id": "a4c4372c",
   "metadata": {},
   "outputs": [],
   "source": [
    "\n",
    "from html.parser import HTMLParser\n",
    "\n",
    "class HeadingParser(HTMLParser):\n",
    "    h1= False\n",
    "    h2= False\n",
    "    h3= False\n",
    "    h4= False\n",
    "    h5= False\n",
    "    h6= False\n",
    "\n",
    "    def handle_starttag(self, tag, attrs):\n",
    "        if tag == 'h1':\n",
    "            self.h1 = True\n",
    "        if tag == 'h2':\n",
    "            self.h2 = True\n",
    "        if tag == 'h3':\n",
    "            self.h3 = True\n",
    "        if tag == 'h4':\n",
    "            self.h4 = True\n",
    "        if tag == 'h5':\n",
    "            self.h5 = True\n",
    "        if tag == 'h6':\n",
    "            self.h6 = True\n",
    "            \n",
    "\n",
    "    def handle_endtag(self, tag):\n",
    "        if tag == 'h1':\n",
    "            self.h1 = False\n",
    "        if tag == 'h2':\n",
    "            self.h2 = False\n",
    "        if tag == 'h3':\n",
    "            self.h3 = False\n",
    "        if tag == 'h4':\n",
    "            self.h4 = False\n",
    "        if tag == 'h5':\n",
    "            self.h5 = False\n",
    "        if tag == 'h6':\n",
    "            self.h6 = False\n",
    "            \n",
    "\n",
    "    def handle_data(self, data):\n",
    "        if self.h1:\n",
    "            print(data)\n",
    "        if self.h2:\n",
    "            print(\" \"*1+'{}'.format(data))\n",
    "        if self.h3:\n",
    "            print(\" \"*2+'{}'.format(data))\n",
    "        if self.h4:\n",
    "            print(\" \"*3+'{}'.format(data))\n",
    "        if self.h5:\n",
    "            print(\" \"*4+'{}'.format(data))\n",
    "        if self.h6:\n",
    "            print(\" \"*5+'{}'.format(data))\n",
    "        \n",
    "        \n"
   ]
  },
  {
   "cell_type": "code",
   "execution_count": 12,
   "id": "1ac6a943",
   "metadata": {},
   "outputs": [
    {
     "name": "stdout",
     "output_type": "stream",
     "text": [
      "FILE CONTENT \n",
      " <!DOCTYPE html>\n",
      "<html lang=\"en\">\n",
      "\n",
      "<head>\n",
      "  <meta name=\"description\" content=\"Webpage description goes here\" />\n",
      "  <meta charset=\"utf-8\">\n",
      "  <title>Change_me</title>\n",
      "  <meta name=\"viewport\" content=\"width=device-width, initial-scale=1\">\n",
      "  <meta name=\"author\" content=\"\">\n",
      "  <link rel=\"stylesheet\" href=\"css/style.css\">\n",
      "</head>\n",
      "\n",
      "<body>\n",
      "  \n",
      "\t<h1>W3C Mission</h1>\n",
      "\t<h2>Principles</h2>\n",
      "\t\n",
      "\n",
      "\n",
      "\n",
      " \n",
      "\n",
      "\n",
      "</body>\n",
      "</html>\n",
      "========Output=========\n",
      "W3C Mission\n",
      " Principles\n"
     ]
    }
   ],
   "source": [
    "file_name = open('W3c.html')\n",
    "read_file = file_name.read()\n",
    "print(\"FILE CONTENT \\n {}\".format(read_file))\n",
    "print(\"========Output=========\")\n",
    "HeadingParser().feed(read_file)"
   ]
  },
  {
   "cell_type": "code",
   "execution_count": 13,
   "id": "50cc533d",
   "metadata": {},
   "outputs": [],
   "source": [
    "# Question 7\n",
    " "
   ]
  },
  {
   "cell_type": "code",
   "execution_count": 14,
   "id": "f6b4e3e9",
   "metadata": {},
   "outputs": [],
   "source": [
    "from urllib.parse import urljoin\n",
    "from html.parser import HTMLParser\n",
    "from urllib.request import urlopen\n",
    "class Collector(HTMLParser):\n",
    "    def __init__(self, url):\n",
    "        \n",
    "#         'initializes parser, the url, and a list'\n",
    "        HTMLParser.__init__(self)\n",
    "        self.url = url\n",
    "        self.links = []    \n",
    "    def handle_starttag(self, tag, attrs):\n",
    "        'collects hyperlink URLs in their absolute format'\n",
    "        \n",
    "        if tag == 'a':\n",
    "         \n",
    "            for attr in attrs:\n",
    "#                 print(\"==========\",attr[0],attr[1])\n",
    "                if attr[0] == 'href':\n",
    "                    # construct absolute URL\n",
    "                    absolute = urljoin(self.url, attr[1])\n",
    "#                     print(\" ABSOLUTE \",absolute)\n",
    "                    if absolute[:4] == 'http': # collect HTTP URLs\n",
    "                        self.links.append(absolute)                        \n",
    "    def getLinks(self):\n",
    "        'returns hyperlinks URLs in their absolute format'\n",
    "        return self.links"
   ]
  },
  {
   "cell_type": "code",
   "execution_count": 15,
   "id": "ba23defa",
   "metadata": {},
   "outputs": [],
   "source": [
    "def webdir(url,depth,indent):\n",
    "    if(depth<0):\n",
    "        return\n",
    "    resource = urlopen(url)\n",
    "    collector = Collector(url)\n",
    "#     print(\"------------\",resource.read().decode())\n",
    "    collector.feed(resource.read().decode())\n",
    "    print(\"    \"*indent +url)\n",
    "    for link_collector in collector.getLinks():\n",
    "        webdir(link_collector,depth-1,indent+1)\n"
   ]
  },
  {
   "cell_type": "code",
   "execution_count": 16,
   "id": "20e61aee",
   "metadata": {},
   "outputs": [
    {
     "name": "stdout",
     "output_type": "stream",
     "text": [
      "https://reed.cs.depaul.edu/lperkovic/test1.html\n",
      "    http://reed.cs.depaul.edu/lperkovic/test2.html\n",
      "        http://reed.cs.depaul.edu/lperkovic/test4.html\n",
      "    https://reed.cs.depaul.edu/lperkovic/test3.html\n",
      "        https://reed.cs.depaul.edu/lperkovic/test4.html\n"
     ]
    }
   ],
   "source": [
    "webdir(\"https://reed.cs.depaul.edu/lperkovic/test1.html\",2,0)"
   ]
  },
  {
   "cell_type": "markdown",
   "id": "dd9b48ad",
   "metadata": {},
   "source": [
    "# Question 8\n",
    "- Lets name the database as geographydata"
   ]
  },
  {
   "cell_type": "markdown",
   "id": "989aa597",
   "metadata": {},
   "source": [
    "- a) All the temperature data.\n",
    "\n",
    "SELECT temperature FROM geographydata;\n",
    "\n",
    "- b) All the cities, but without repetition.\n",
    "\n",
    "SELECT DISTINCT cities FROM geographydata;\n",
    "\n",
    "- c)  All the records for India.\n",
    "\n",
    "SELECT * FROM geographydata WHERE Country == \"India\";\n",
    "\n",
    "- d) All the Fall records.\n",
    "\n",
    " SELECT * FROM geographydata WHERE season = Fall;\n",
    "\n",
    "- e) The city, country, and season for which the average rainfall is between 200 and 400 millimeters.\n",
    "\n",
    "SELECT city, country, season  FROM geographydata WHERE rainfall> 200 and rainfall<400;\n",
    "\n",
    "- f) The city and country for which the average Fall temperature is above 20 degrees, in increasing temperature order.\n",
    "\n",
    "SELECT city, country FROM geographydata WHERE season = \"Fall\" and Temperature > 20 ORDER BY Temperature ASC;\n",
    "\n",
    "\n",
    "- g) The total annual rainfall for Cairo.\n",
    " SELECT SUM(rainfall) FROM geographydata WHERE country = \"cairo\";\n",
    " \n",
    " \n",
    "- h) The total rainfall for each season.\n",
    " SELECT SUM(rainfall) FROM geographydata GROUP BY season;"
   ]
  },
  {
   "cell_type": "markdown",
   "id": "39b01a0d",
   "metadata": {},
   "source": [
    "# Question 9"
   ]
  },
  {
   "cell_type": "code",
   "execution_count": 17,
   "id": "0a558868",
   "metadata": {},
   "outputs": [],
   "source": [
    "words = ['The', 'quick', 'brown', 'fox', 'jumps', 'over','the', 'lazy', 'dog']\n"
   ]
  },
  {
   "cell_type": "code",
   "execution_count": 18,
   "id": "ad84cf28",
   "metadata": {},
   "outputs": [
    {
     "data": {
      "text/plain": [
       "['THE', 'QUICK', 'BROWN', 'FOX', 'JUMPS', 'OVER', 'THE', 'LAZY', 'DOG']"
      ]
     },
     "execution_count": 18,
     "metadata": {},
     "output_type": "execute_result"
    }
   ],
   "source": [
    "# a) ['THE', 'QUICK', 'BROWN', 'FOX', 'JUMPS', 'OVER', 'THE','LAZY', 'DOG']\n",
    "\n",
    "word_temp1=[]\n",
    "for i in words:\n",
    "    word_temp1.append(i.upper())\n",
    "word_temp1"
   ]
  },
  {
   "cell_type": "code",
   "execution_count": 19,
   "id": "4eb6fc05",
   "metadata": {},
   "outputs": [
    {
     "data": {
      "text/plain": [
       "['the', 'quick', 'brown', 'fox', 'jumps', 'over', 'the', 'lazy', 'dog']"
      ]
     },
     "execution_count": 19,
     "metadata": {},
     "output_type": "execute_result"
    }
   ],
   "source": [
    "# b) ['the', 'quick', 'brown', 'fox', 'jumps', 'over', 'the','lazy', 'dog']\n",
    "word_temp2=[]\n",
    "for i in words:\n",
    "    word_temp2.append(i.lower())\n",
    "word_temp2"
   ]
  },
  {
   "cell_type": "code",
   "execution_count": 20,
   "id": "ad847bc9",
   "metadata": {},
   "outputs": [
    {
     "data": {
      "text/plain": [
       "[3, 5, 5, 3, 5, 4, 3, 4, 3]"
      ]
     },
     "execution_count": 20,
     "metadata": {},
     "output_type": "execute_result"
    }
   ],
   "source": [
    "# c) [3, 5, 5, 3, 5, 4, 3, 4, 3] (the list of lengths of words in list words).\n",
    "word_temp3=[]\n",
    "for i in words:\n",
    "    word_temp3.append(len(i))\n",
    "word_temp3"
   ]
  },
  {
   "cell_type": "code",
   "execution_count": 21,
   "id": "68f384ed",
   "metadata": {},
   "outputs": [
    {
     "data": {
      "text/plain": [
       "[['THE', 'the', 3],\n",
       " ['QUICK', 'quick', 5],\n",
       " ['BROWN', 'brown', 5],\n",
       " ['FOX', 'fox', 3],\n",
       " ['JUMPS', 'jumps', 5],\n",
       " ['OVER', 'over', 4],\n",
       " ['THE', 'the', 3],\n",
       " ['LAZY', 'lazy', 4],\n",
       " ['DOG', 'dog', 3]]"
      ]
     },
     "execution_count": 21,
     "metadata": {},
     "output_type": "execute_result"
    }
   ],
   "source": [
    "# d) [['THE', 'the', 3], ['QUICK', 'quick', 5], ['BROWN', 'brown', 5], ['FOX', 'fox', 3],\n",
    "# ['JUMPS', 'jumps', 5], ['OVER', 'over', 4], ['THE', 'the', 3], ['LAZY', 'lazy',4], ['DOG', 'dog', 3]] \n",
    "# (the list containing a list for every word of listwords, where each list contains the word in uppercase and \n",
    "# lowercase and the length of the word.)\n",
    "word_temp4=[]\n",
    "for i in words:\n",
    "    word_temp4.append([i.upper(),i.lower(),len(i)])\n",
    "word_temp4\n"
   ]
  },
  {
   "cell_type": "code",
   "execution_count": 22,
   "id": "c794466b",
   "metadata": {},
   "outputs": [
    {
     "data": {
      "text/plain": [
       "['quick', 'brown', 'jumps', 'over', 'lazy']"
      ]
     },
     "execution_count": 22,
     "metadata": {},
     "output_type": "execute_result"
    }
   ],
   "source": [
    "# e) ['The', 'quick', 'brown', 'fox', 'jumps', 'over', 'the', 'lazy', 'dog'] (the list of words in list words \n",
    "# containing 4 or more characters.)\n",
    "\n",
    "word_temp5=[]\n",
    "for i in words:\n",
    "    if len(i)>=4:\n",
    "        word_temp5.append(i)\n",
    "word_temp5\n"
   ]
  }
 ],
 "metadata": {
  "kernelspec": {
   "display_name": "Python 3 (ipykernel)",
   "language": "python",
   "name": "python3"
  },
  "language_info": {
   "codemirror_mode": {
    "name": "ipython",
    "version": 3
   },
   "file_extension": ".py",
   "mimetype": "text/x-python",
   "name": "python",
   "nbconvert_exporter": "python",
   "pygments_lexer": "ipython3",
   "version": "3.7.4"
  }
 },
 "nbformat": 4,
 "nbformat_minor": 5
}
